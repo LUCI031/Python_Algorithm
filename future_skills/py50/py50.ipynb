{
 "cells": [
  {
   "cell_type": "markdown",
   "metadata": {},
   "source": [
    "1~10"
   ]
  },
  {
   "cell_type": "code",
   "execution_count": null,
   "metadata": {},
   "outputs": [],
   "source": [
    "# py50-3\n",
    "s = \"hello world\"\n",
    "\n",
    "def capitalize_every_word(s):\n",
    "    return s.title()\n",
    "print(capitalize_every_word(s))"
   ]
  },
  {
   "cell_type": "code",
   "execution_count": null,
   "metadata": {},
   "outputs": [],
   "source": [
    "# py50-4\n",
    "celsius = 180\n",
    "\n",
    "def celsius_to_fahrenheit(celsius):\n",
    "    return (celsius*1.8)+32\n",
    "\n",
    "print(celsius_to_fahrenheit(celsius))"
   ]
  },
  {
   "cell_type": "code",
   "execution_count": null,
   "metadata": {},
   "outputs": [],
   "source": [
    "# py50-5\n",
    "lst = [0, 1, False, 2, '', 3, 'a', 's', 34]\n",
    "\n",
    "def compact(lst):\n",
    "    return list(filter(None, lst))\n",
    "\n",
    "print(compact(lst))\n",
    "\n",
    "# filter(None, lst 쓰면 None, False, 0, \"\" 등 제거)"
   ]
  },
  {
   "cell_type": "code",
   "execution_count": null,
   "metadata": {},
   "outputs": [],
   "source": [
    "# py50-6\n",
    "lst = [1,1,2,1,2,3]\n",
    "\n",
    "def count_occurences(lst, val):\n",
    "    return lst.count(val)\n",
    "print(count_occurences(lst,1))"
   ]
  },
  {
   "cell_type": "code",
   "execution_count": null,
   "metadata": {},
   "outputs": [],
   "source": [
    "# py50-7\n",
    "from math import pi \n",
    "degrees = 180\n",
    "\n",
    "def degrees_to_rads(degrees):\n",
    "    return degrees*pi/180\n",
    "\n",
    "print(degrees_to_rads(degrees))\n",
    "\n",
    "# pi/180 * degrees 가 가장 정확\n",
    "# Radian 구하기"
   ]
  },
  {
   "cell_type": "code",
   "execution_count": null,
   "metadata": {},
   "outputs": [],
   "source": [
    "# py50-8\n",
    "lst1 = [1,2,3]\n",
    "lst2 = [1,2,4]\n",
    "\n",
    "def difference(a,b) : \n",
    "\treturn list(set(a) - set(b))\n",
    "\n",
    "print(difference(lst1, lst2))\n",
    "\n",
    "# list(set(a).difference(b)) 이런 것도 있음"
   ]
  },
  {
   "cell_type": "code",
   "execution_count": null,
   "metadata": {},
   "outputs": [],
   "source": [
    "# py50-9\n",
    "a = 123\n",
    "\n",
    "def digitize(n):\n",
    "\treturn list(map(int,str(n)))\n",
    "\n",
    "print(digitize(a))"
   ]
  },
  {
   "cell_type": "code",
   "execution_count": null,
   "metadata": {},
   "outputs": [],
   "source": [
    "# py50-10\n",
    "def drop(lst, n=1):\n",
    "    return lst[n:]\n",
    "\n",
    "print(drop([1,2,3]))\n",
    "print(drop([1,2,3],2))\n",
    "print(drop([1,2,3],42))"
   ]
  },
  {
   "cell_type": "markdown",
   "metadata": {},
   "source": [
    "11~20"
   ]
  },
  {
   "cell_type": "code",
   "execution_count": null,
   "metadata": {},
   "outputs": [],
   "source": [
    "# py50-11\n",
    "def drop_right(lst, n=1):\n",
    "    return lst[-n]"
   ]
  },
  {
   "cell_type": "code",
   "execution_count": null,
   "metadata": {},
   "outputs": [],
   "source": [
    "# py50-12\n",
    "lst = [1,2,3,4,5,6]\n",
    "\n",
    "def every_nth(lst, n):\n",
    "    return lst[n-1::n]\n",
    "\n",
    "print(every_nth(lst, 2))\n",
    "print(every_nth(lst, 3))"
   ]
  },
  {
   "cell_type": "code",
   "execution_count": null,
   "metadata": {},
   "outputs": [],
   "source": [
    "# py50-13\n",
    "fahrenheit = 77\n",
    "\n",
    "def fahrenheit_to_celsius(fahrenheit):\n",
    "    return int((fahrenheit-32)/1.8)\n",
    "\n",
    "print(fahrenheit_to_celsius(fahrenheit))\n",
    "\n",
    "# 섭씨 => 화씨 공식 : (x°C × 9/5) + 32 = y°F\n",
    "# 화씨 => 섭씨 공식 : (x°F − 32) × 5/9 = y°C"
   ]
  },
  {
   "cell_type": "code",
   "execution_count": null,
   "metadata": {},
   "outputs": [],
   "source": [
    "# py50-14\n",
    "lst = [1,2,2,3,4,4,5]\n",
    "\n",
    "def filter_non_unique(lst):\n",
    "    return list(set(lst))\n",
    "filter_non_unique(lst)"
   ]
  },
  {
   "cell_type": "code",
   "execution_count": null,
   "metadata": {},
   "outputs": [],
   "source": [
    "# py50-15\n",
    "lst = [1,2,2,3,4,4,5]\n",
    "\n",
    "def filter_unique(lst):\n",
    "    unique = list(set(lst))\n",
    "    for i in unique:\n",
    "        if lst.count(i) < 2:\n",
    "            lst.remove(i)\n",
    "    return list(set(lst))\n",
    "filter_unique(lst)"
   ]
  },
  {
   "cell_type": "code",
   "execution_count": null,
   "metadata": {},
   "outputs": [],
   "source": [
    "# py50-16\n",
    "itr = [1,2,3]\n",
    "fn = print\n",
    "\n",
    "def for_each(itr, fn):\n",
    "    for i in itr:\n",
    "        fn(i)\n",
    "\n",
    "for_each(itr, fn)"
   ]
  },
  {
   "cell_type": "code",
   "execution_count": null,
   "metadata": {},
   "outputs": [],
   "source": [
    "# py50-17\n",
    "itr = [1,2,3]\n",
    "\n",
    "def for_each_right(itr, fn):\n",
    "    for i in itr[::-1]:\n",
    "        fn(i)\n",
    "\n",
    "for_each_right(itr, print)"
   ]
  },
  {
   "cell_type": "code",
   "execution_count": null,
   "metadata": {},
   "outputs": [],
   "source": [
    "# py50-18\n",
    "lst = [1,2,3]\n",
    "\n",
    "def has_duplicates(lst):\n",
    "    if len(lst) > len(set(lst)):\n",
    "        return True\n",
    "    else:\n",
    "        return False\n",
    "    \n",
    "has_duplicates(lst)"
   ]
  },
  {
   "cell_type": "code",
   "execution_count": null,
   "metadata": {},
   "outputs": [],
   "source": [
    "# py50-19\n",
    "lst = [1,2,3]\n",
    "\n",
    "def head(lst):\n",
    "    return lst[0]\n",
    "\n",
    "head(lst)"
   ]
  },
  {
   "cell_type": "code",
   "execution_count": null,
   "metadata": {},
   "outputs": [],
   "source": [
    "# py50-20\n",
    "def in_range(n, start, end=0):\n",
    "    if end == 0:\n",
    "        if n in range(0,start):\n",
    "            return True\n",
    "        else:\n",
    "            return False\n",
    "    elif n in range(start, end):\n",
    "        return True\n",
    "    else:\n",
    "        return False"
   ]
  },
  {
   "cell_type": "markdown",
   "metadata": {},
   "source": [
    "21~30"
   ]
  },
  {
   "cell_type": "code",
   "execution_count": null,
   "metadata": {},
   "outputs": [],
   "source": [
    "# py50-21\n",
    "lst = [1,2,3,4,5]\n",
    "\n",
    "def initial(lst):\n",
    "\treturn lst[:-1]\n",
    "\n",
    "initial(lst)"
   ]
  },
  {
   "cell_type": "code",
   "execution_count": null,
   "metadata": {},
   "outputs": [],
   "source": [
    "# py50-22\n",
    "def initialize_list_with_range(end, start=0, step=1):\n",
    "    return list(range(start,end+1,step))"
   ]
  },
  {
   "cell_type": "code",
   "execution_count": null,
   "metadata": {},
   "outputs": [],
   "source": [
    "# py50-23\n",
    "def initialize_list_with_values(n, val=0):\n",
    "    return [val for x in range(n)]\n",
    "\n",
    "def initialize_list_with_range(n, val=0):\n",
    "    return [val for x in range(n)]\n",
    "\n",
    "print(initialize_list_with_values(5,2))\n",
    "print(initialize_list_with_range(3,3))\n",
    "print(initialize_list_with_values(5))"
   ]
  },
  {
   "cell_type": "code",
   "execution_count": null,
   "metadata": {},
   "outputs": [],
   "source": [
    "# py50-24\n",
    "lst1 = [1,2,3]\n",
    "lst2 = [2,3,4] \n",
    "\n",
    "def intersection(a,b):\n",
    "    return [x for x in a if x in b]\n",
    "\n",
    "intersection(lst1,lst2)\n",
    "\n",
    "# 모범답\n",
    "# def intersection(a,b):\n",
    "#   return list(set(a) & set(b))"
   ]
  },
  {
   "cell_type": "code",
   "execution_count": null,
   "metadata": {},
   "outputs": [],
   "source": [
    "# py50-25\n",
    "a = 9\n",
    "b = 3\n",
    "\n",
    "def is_divisible(dividend, divisor):\n",
    "    return dividend%divisor == 0\n",
    "\n",
    "is_divisible(a, b)"
   ]
  },
  {
   "cell_type": "code",
   "execution_count": null,
   "metadata": {},
   "outputs": [],
   "source": [
    "# py50-26\n",
    "a = 9\n",
    "\n",
    "def is_even(num):\n",
    "    return num&2 == 0\n",
    "\n",
    "is_even(a)"
   ]
  },
  {
   "cell_type": "code",
   "execution_count": null,
   "metadata": {},
   "outputs": [],
   "source": [
    "# py50-27\n",
    "a = 4\n",
    "\n",
    "def is_odd(num):\n",
    "    return num%2 == 1\n",
    "\n",
    "is_odd(a)"
   ]
  },
  {
   "cell_type": "code",
   "execution_count": null,
   "metadata": {},
   "outputs": [],
   "source": [
    "# py50-28\n",
    "ages = {\n",
    "\t\"Peter\":10,\n",
    "\t\"Isabel\":11,\n",
    "\t\"Anna\":9,\n",
    "}\n",
    "\n",
    "def keys_only(flat_dict):\n",
    "    return list(flat_dict.keys())\n",
    "\n",
    "print(keys_only(ages))"
   ]
  },
  {
   "cell_type": "code",
   "execution_count": null,
   "metadata": {},
   "outputs": [],
   "source": [
    "# py50-29\n",
    "lst = [1,2,3]\n",
    "\n",
    "def last(lst):\n",
    "\treturn lst[-1]\n",
    "\n",
    "last(lst)"
   ]
  },
  {
   "cell_type": "code",
   "execution_count": null,
   "metadata": {},
   "outputs": [],
   "source": [
    "# py50-30\n",
    "lst = [{'n':4},{'n':2},{'n':8},{'n':6}]\n",
    "fn = lambda v:v['n']\n",
    "\n",
    "def max_by(lst, fn):\n",
    "\treturn max(map(fn, lst))\n",
    "\n",
    "print(max_by(lst, fn))"
   ]
  },
  {
   "cell_type": "markdown",
   "metadata": {},
   "source": [
    "31~40"
   ]
  },
  {
   "cell_type": "code",
   "execution_count": null,
   "metadata": {},
   "outputs": [],
   "source": [
    "# py50-31\n",
    "lst = [5,8,9,7,10,3,0]\n",
    "\n",
    "def max_element_index(lst):\n",
    "\treturn lst.index(max(lst))\n",
    "\n",
    "max_element_index(lst)"
   ]
  },
  {
   "cell_type": "code",
   "execution_count": null,
   "metadata": {},
   "outputs": [],
   "source": [
    "# py50-32\n",
    "def max_n(lst, n=1):\n",
    "    lst.sort(reverse=True)\n",
    "    return lst[0:n]\n",
    "\n",
    "# 모범 답안\n",
    "# def max_n(lst, n=1):\n",
    "#     return sorted(lst, reverse = True)[:n]"
   ]
  },
  {
   "cell_type": "code",
   "execution_count": null,
   "metadata": {},
   "outputs": [],
   "source": [
    "# py50-33\n",
    "def median(lst):\n",
    "    lst = sorted(lst)\n",
    "    if len(lst)%2 == 0:\n",
    "        return int(lst[(len(lst)//2-1)]+lst[len(lst)//2])/2\n",
    "    else:\n",
    "        return lst[len(lst)//2]"
   ]
  },
  {
   "cell_type": "code",
   "execution_count": null,
   "metadata": {},
   "outputs": [],
   "source": [
    "# py50-34\n",
    "lst = [{'n':4},{'n':2},{'n':8},{'n':6}]\n",
    "fn = lambda v:v['n']\n",
    "\n",
    "def min_by(lst, fn):\n",
    "    mins = []\n",
    "    for i in lst:\n",
    "        mins.append(fn(i))\n",
    "    return(min(mins))\n",
    "\n",
    "min_by(lst, fn)\n",
    "\n",
    "# 모범 답안\n",
    "# lst = [{'n':4},{'n':2},{'n':8},{'n':6}]\n",
    "# fn = lambda v:v['n']\n",
    "\n",
    "\n",
    "# def min_by(lst, fn):\n",
    "#     return min(map(fn,lst))\n",
    "# min_by(lst, fn)"
   ]
  },
  {
   "cell_type": "code",
   "execution_count": null,
   "metadata": {},
   "outputs": [],
   "source": [
    "# py50-35\n",
    "def min_n(lst, n=1):\n",
    "    return sorted(lst)[:n]\n",
    "\n",
    "print(min_n([1,2,3]))\n",
    "print(min_n([1,2,3], 2))"
   ]
  },
  {
   "cell_type": "code",
   "execution_count": null,
   "metadata": {},
   "outputs": [],
   "source": [
    "# py50-36\n",
    "import collections\n",
    "\n",
    "def most_frequent(lst):\n",
    "    return collections.Counter(lst).most_common(1)[0][0]\n",
    "\n",
    "print(most_frequent([1,2,3,4,4]))\n",
    "print(most_frequent([1,2,1,2,3,2,1,4,2]))\n",
    "\n",
    "# 모범 답안\n",
    "# from collections import Counter \n",
    "\n",
    "\n",
    "# def most_frequent(lst):\n",
    "#     return max(Counter(lst).values())\n",
    "\n",
    "# print(most_frequent([1,2,3,4,4]),\n",
    "# most_frequent([1,2,1,2,3,2,1,4,2]))"
   ]
  },
  {
   "cell_type": "code",
   "execution_count": null,
   "metadata": {},
   "outputs": [],
   "source": [
    "# py50-37\n",
    "def n_time_string(s,n):\n",
    "    return print(s*n)\n",
    "\n",
    "n_time_string('py',4)"
   ]
  },
  {
   "cell_type": "code",
   "execution_count": null,
   "metadata": {},
   "outputs": [],
   "source": [
    "# py50-38\n",
    "def offset(lst,n):\n",
    "    apd = lst[0:n]\n",
    "    del(lst[0:n])\n",
    "    return lst+apd\n",
    "\n",
    "print(offset([1,2,3],1))\n",
    "print(offset([3,4,5,6,7],2))\n",
    "\n",
    "# 모범답안\n",
    "# def offset(lst,n):\n",
    "#     return lst[n:]+lst[:n]"
   ]
  },
  {
   "cell_type": "code",
   "execution_count": null,
   "metadata": {},
   "outputs": [],
   "source": [
    "# py50-39\n",
    "import math\n",
    "\n",
    "def rads_to_degrees(rads):\n",
    "    return rads * 180 / math.pi\n",
    "\n",
    "rads_to_degrees(math.pi/2)"
   ]
  },
  {
   "cell_type": "code",
   "execution_count": null,
   "metadata": {},
   "outputs": [],
   "source": [
    "# py50-40\n",
    "s=\"snippet\"\n",
    "\n",
    "def reverse_string(s):\n",
    "    s = list(s)\n",
    "    s.reverse()\n",
    "    return ''.join(s)\n",
    "\n",
    "reverse_string(s)\n",
    "\n",
    "# 모범 답안\n",
    "# s=\"snippet\"\n",
    "\n",
    "\n",
    "# def reverse_string(s):\n",
    "#     return s[::-1]\n",
    "\n",
    "\n",
    "# reverse_string(s)"
   ]
  },
  {
   "cell_type": "markdown",
   "metadata": {},
   "source": [
    "41~50"
   ]
  },
  {
   "cell_type": "code",
   "execution_count": null,
   "metadata": {},
   "outputs": [],
   "source": [
    "# py50-41\n",
    "from random import randint\n",
    "\n",
    "ages=[12,12,13,14,15]\n",
    "\n",
    "def sample(lst):\n",
    "    rand = randint(0,len(lst))\n",
    "    return lst[rand]\n",
    "\n",
    "print(sample(ages))\n",
    "\n",
    "# 모범 답안\n",
    "# import random\n",
    "# ages=[12,12,13,14,15]\n",
    "\n",
    "\n",
    "\n",
    "# def sample(lst):\n",
    "#     print(*random.sample(lst,1))\n",
    "\n",
    "\n",
    "\n",
    "# sample(ages)\n",
    "\n",
    "# 모범답안 2\n",
    "# from random import *\n",
    "\n",
    "# def sample(lst):\n",
    "#     shuffle(lst)\n",
    "#     return lst[0]"
   ]
  },
  {
   "cell_type": "code",
   "execution_count": 5,
   "metadata": {},
   "outputs": [
    {
     "data": {
      "text/plain": [
       "[1, 2]"
      ]
     },
     "execution_count": 5,
     "metadata": {},
     "output_type": "execute_result"
    }
   ],
   "source": [
    "# py50-42\n",
    "lst1 = [1, 2, 3]\n",
    "lst2 = [1, 2, 4]\n",
    "\n",
    "def similarity(a, b):\n",
    " return [i for i in a if i in b]\n",
    "\n",
    "similarity(lst1, lst2)\n",
    "\n",
    "# 모범은 아니지만 답안\n",
    "# def similarity(a, b):\n",
    "#  return list(set(lst1).intersection(set(lst2)))"
   ]
  },
  {
   "cell_type": "code",
   "execution_count": 7,
   "metadata": {},
   "outputs": [
    {
     "data": {
      "text/plain": [
       "['Sentence1', 'Sentence2', 'Sentence3']"
      ]
     },
     "execution_count": 7,
     "metadata": {},
     "output_type": "execute_result"
    }
   ],
   "source": [
    "# py50-43\n",
    "corpus = 'Sentence1\\nSentence2\\nSentence3'\n",
    "\n",
    "def split_lines(corpus):\n",
    "    return list(map(str,corpus.split('\\n')))\n",
    "\n",
    "split_lines(corpus)\n",
    "\n",
    "# 모법답안\n",
    "# def split_lines(corpus):\n",
    "#     return corpus.split('\\n')"
   ]
  },
  {
   "cell_type": "code",
   "execution_count": 13,
   "metadata": {},
   "outputs": [
    {
     "data": {
      "text/plain": [
       "20"
      ]
     },
     "execution_count": 13,
     "metadata": {},
     "output_type": "execute_result"
    }
   ],
   "source": [
    "# py50-44\n",
    "lst = [{'n':4},{'n':2},{'n':8},{'n':6}]\n",
    "fn = lambda v:v['n']\n",
    "\n",
    "def sum_by(lst, fn):\n",
    "    sums = []\n",
    "    for i in lst:\n",
    "        sums.append(fn(i))\n",
    "    return sum(sums)\n",
    "\n",
    "sum_by(lst, fn)\n",
    "\n",
    "# 모범답안\n",
    "# lst = [{'n':4},{'n':2},{'n':8},{'n':6}]\n",
    "# fn = lambda v:v['n']\n",
    "\n",
    "\n",
    "# def sum_by(lst, fn):\n",
    "#     return sum(map(fn,lst))\n",
    "\n",
    "\n",
    "# sum_by(lst, fn)"
   ]
  },
  {
   "cell_type": "code",
   "execution_count": 22,
   "metadata": {},
   "outputs": [
    {
     "name": "stdout",
     "output_type": "stream",
     "text": [
      "[2, 3, 4, 5]\n"
     ]
    }
   ],
   "source": [
    "# py50-45\n",
    "lst = [1, 2, 3, 4, 5]\n",
    "\n",
    "def tail(lst):\n",
    "    return lst[1:] if len(lst) > 1 else lst\n",
    "\n",
    "print(tail(lst))\n",
    "\n",
    "# 내꺼는 예외처리 안돼서 모범 답안 참고"
   ]
  },
  {
   "cell_type": "code",
   "execution_count": 24,
   "metadata": {},
   "outputs": [
    {
     "data": {
      "text/plain": [
       "[1, 2, 3]"
      ]
     },
     "execution_count": 24,
     "metadata": {},
     "output_type": "execute_result"
    }
   ],
   "source": [
    "# py50-46\n",
    "def take(itr, n=1):\n",
    "    return itr[:n]"
   ]
  },
  {
   "cell_type": "code",
   "execution_count": 51,
   "metadata": {},
   "outputs": [],
   "source": [
    "# py50-47\n",
    "def take_right(itr, n=1):\n",
    "    return itr[-n:]\n",
    "\n",
    "# 모범 답안\n",
    "# def take_right(itr, n=1):\n",
    "#     return itr[::-1][:n]"
   ]
  },
  {
   "cell_type": "code",
   "execution_count": 57,
   "metadata": {},
   "outputs": [
    {
     "data": {
      "text/plain": [
       "[1, 2, 3, 4, 52, 99]"
      ]
     },
     "execution_count": 57,
     "metadata": {},
     "output_type": "execute_result"
    }
   ],
   "source": [
    "# py50-48\n",
    "a = [1,2,3,99]\n",
    "b = [2,3,4,52] \n",
    "\n",
    "def union(a,b):\n",
    "\treturn sorted(list(set(a+b)))\n",
    "\n",
    "union(a,b)\n",
    "\n",
    "# 모범 답안\n",
    "# def union(a,b):\n",
    "#   return list(set(a).union(set(b)))"
   ]
  },
  {
   "cell_type": "code",
   "execution_count": 58,
   "metadata": {},
   "outputs": [
    {
     "data": {
      "text/plain": [
       "[1, 2, 3, 4, 5]"
      ]
     },
     "execution_count": 58,
     "metadata": {},
     "output_type": "execute_result"
    }
   ],
   "source": [
    "# py50-49\n",
    "lst = [1,4,4,4,5,5,2,3]\n",
    "\n",
    "def unique_elements(lst):\n",
    "\treturn sorted(list(set(lst)))\n",
    "\n",
    "unique_elements(lst)"
   ]
  },
  {
   "cell_type": "code",
   "execution_count": 62,
   "metadata": {},
   "outputs": [
    {
     "data": {
      "text/plain": [
       "[10, 11, 9]"
      ]
     },
     "execution_count": 62,
     "metadata": {},
     "output_type": "execute_result"
    }
   ],
   "source": [
    "ages = {\n",
    "\t\"Peter\":10,\n",
    "\t\"Isabel\":11,\n",
    "\t\"Anna\":9,\n",
    "}\n",
    "\n",
    "def values_only(flat_dict):\n",
    "    return list(flat_dict.values())\n",
    "\n",
    "values_only(ages)"
   ]
  }
 ],
 "metadata": {
  "interpreter": {
   "hash": "a75f966a0b71e21c86ddece996997f32866b24ee491e480ec98beba7eb5cb250"
  },
  "kernelspec": {
   "display_name": "Python 3.8.13 ('yds')",
   "language": "python",
   "name": "python3"
  },
  "language_info": {
   "codemirror_mode": {
    "name": "ipython",
    "version": 3
   },
   "file_extension": ".py",
   "mimetype": "text/x-python",
   "name": "python",
   "nbconvert_exporter": "python",
   "pygments_lexer": "ipython3",
   "version": "3.8.13"
  },
  "orig_nbformat": 4
 },
 "nbformat": 4,
 "nbformat_minor": 2
}
